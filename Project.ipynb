{
 "cells": [
  {
   "cell_type": "markdown",
   "metadata": {},
   "source": [
    "# Iterative Prisoner's Dilemma\n",
    "\n",
    "\n",
    "### Description\n",
    "\n",
    "The [Prisoner's Dilemma](https://en.wikipedia.org/wiki/Prisoner%27s_dilemma) (PD) is a classical game analyzed in game theory, which is widely used to (attempt to) model social/economical interaction. It's a \"dilemma\" as, if exploited to explain the emergence of altruism in human or in general animal society, it fails badly at a first glance.\n",
    "\n",
    "The classical situation-representation of the PD is that of two prisoners whose conviction depends on their mutual cooperation. It is easier understood though if illustrated in terms of a trade-off game (closed bag exachange):\n",
    "\n",
    "*Two people meet and exchange closed bags, with the understanding that one of them contains money, and the other contains a purchase. Either player can choose to honor the deal by putting into his or her bag what he or she agreed, or he or she can defect by handing over an empty bag.*\n",
    "\n",
    "It is obvious that for both players the winning strategy is to NOT cooperate.\n",
    "\n",
    "Things changes when the interaction between the two individuals is iterated, in that case a more altruist attitude (strategy) is expected to emerge. The goal of this project is to test this hypothesis.\n",
    "\n",
    "Mathematically the PD can be expressed with very basic linear algebra. The key component is the **Payoff matrix** $M$, which quantify the reward each player gets depending on whether she cooperated or not (defect):\n",
    "\n",
    "$$\n",
    "M = \n",
    "\\begin{pmatrix} \n",
    "R & S \\\\\n",
    "T & P \n",
    "\\end{pmatrix}\n",
    "$$\n",
    "\n",
    "with $T,R,S,P$ integers that satisfy the following conditions:\n",
    "\n",
    "$$\n",
    "T>R>P>S; \\quad 2R > T+S\n",
    "$$\n",
    "\n",
    "for example $T=3$, $R=2$, $P=1$ and $S=0$, or  $T=5$, $R=3$, $P=2$, $S=0$. Each player choice (move) can be represented by one of the two axis in ${\\rm I\\!R}^2$, i.e. $u_C=\\begin{pmatrix} 1 \\\\ 0 \\end{pmatrix}$ or $u_D=\\begin{pmatrix} 0 \\\\ 1 \\end{pmatrix}$, where the first coordinate stands for *Cooperate* and the second for *Defect*. Being $u_1$ and $u_2$ their rewards $r_1$ and $r_2$ can be computed then as:\n",
    "\n",
    "$$\n",
    "r_1 = u_1^T M u_2\n",
    "\\quad\n",
    "\\quad\n",
    "r_2 = u_2^T M u_1\n",
    "$$\n",
    "\n",
    "In an Iterative Prisoner's Dilemma (IPD), two players play prisoner's dilemma more than once in succession and they remember previous actions of their opponent and change their strategy accordingly. The winning strategy is the one which yields to a larger reward at the end of the IPD.\n",
    "\n",
    "The strategy can be represented as a function which outputs either $u_C$ or $u_D$. Such function can depend on the opponent's history of moves, her on history of moves, on the number of moves played till that moment and so on, but it can only be based on a probability density function. Possible strategies are:\n",
    "\n",
    "* **Nice guy**: always cooperate (the function's output is always $u_D$)\n",
    "* **Bad guy**: always defect \n",
    "* **Mainly nice**: randomly defect $k\\%$ of the times and cooperate $100-k\\%$, $k<50$\n",
    "* **Mainly bad**: randomly defect $k\\%$ of the times and cooperate $100-k\\%$, $k>50$\n",
    "* **tit-for-tat**: start by cooperating, then repeat what the opponent has done in the previous move \n",
    "\n",
    "Many more and much more complex strategies can be implemented. The strategy can even change during the IPD.\n",
    "\n",
    "\n",
    "### Assignments\n",
    "\n",
    "* Implement a simple IPD between two players implementing two given strategies. Study the evolution along the tournament confronting different strategies; study the overall outcome in the different configurations. \n",
    "* Implement a multiple players IPD (MPIPD) where several strategies play against each other in a roud-robin scheme\n",
    "* Iterate what done in the previous task (repeated MPIPD, rMPIPD)  by increasing the population implementing a given strategy depending on the results that strategy achieved in the previous iteration\n",
    "* (*difficult*) Implement a rMPIPD where strategies are allowed to mutate. The goal is to simulate the effect of genetic mutations and the effect of natura selection. A parameter (gene) should encode the attidue of an individual to cooperate, such gene can mutate randomly and the corresponding phenotype should compete in the MPIPD such that the best-fitted is determined.  \n"
   ]
  },
  {
   "cell_type": "markdown",
   "metadata": {},
   "source": [
    "## Basic elements and 1-on-1 matches"
   ]
  },
  {
   "cell_type": "code",
   "execution_count": 1,
   "metadata": {},
   "outputs": [],
   "source": [
    "import numpy as np\n",
    "from numpy.random import random\n",
    "import pandas as pd\n",
    "import matplotlib.pyplot as plt"
   ]
  },
  {
   "cell_type": "markdown",
   "metadata": {},
   "source": [
    "We start by defining a `Player` class."
   ]
  },
  {
   "cell_type": "code",
   "execution_count": 2,
   "metadata": {},
   "outputs": [
    {
     "data": {
      "text/plain": [
       "'class Player:\\n    def __init__(self, k):\\n        self.k = k\\n    \\n    def play(self, hist):\\n        return random() < self.k\\n \\n# special child class for tit-for-tat strategies (see later)\\nclass TftPlayer(Player):\\n    def play(self, hist):\\n        return hist[-1]'"
      ]
     },
     "execution_count": 2,
     "metadata": {},
     "output_type": "execute_result"
    }
   ],
   "source": [
    "class Player:\n",
    "    def __init__(self, k):\n",
    "        self.k = k\n",
    "    \n",
    "    def play(self, hist):\n",
    "        return random() < self.k\n",
    " \n",
    "# special child class for tit-for-tat strategies (see later)\n",
    "class TftPlayer(Player):\n",
    "    def play(self, hist):\n",
    "        return hist[-1]"
   ]
  },
  {
   "cell_type": "markdown",
   "metadata": {},
   "source": [
    "Then a function that implements the basic 1-on-1 game mechanics. The default payoff matrix will be\n",
    "$$\n",
    "    M = \\begin{pmatrix} 2 & 0 \\\\ 3 & 1 \\end{pmatrix},\n",
    "$$\n",
    "corresponding to\n",
    "$$\n",
    "    R = 2,\\, S = 0,\\, T = 3,\\, P = 1.\n",
    "$$\n",
    "If both players cooperate, they both receive 2 points (**R**eward). If they betray each other, they each receive 1 point (**P**unishment). If one player betrays their cooperative opponent, the betrayer receives 3 points (**T**emptation payoff) while the betrayed player gets 0 (**S**ucker’s payoff)."
   ]
  },
  {
   "cell_type": "code",
   "execution_count": 3,
   "metadata": {},
   "outputs": [],
   "source": [
    "def game(pl1, pl2, it, payoff=(3, 2, 1, 0)):\n",
    "    hist1 = [True] # only for the correct init of tit-for-tat\n",
    "    hist2 = [True] # same\n",
    "    points = [0, 0]\n",
    "    \n",
    "    for i in range(it):\n",
    "        res1 = pl1.play(hist2)\n",
    "        res2 = pl2.play(hist1)\n",
    "        hist1.append(res1)\n",
    "        hist2.append(res2)\n",
    "        if res1 and res2:\n",
    "            points[0] += payoff[1]\n",
    "            points[1] += payoff[1]\n",
    "        elif res1 and not res2:\n",
    "            points[1] += payoff[0]\n",
    "            points[0] += payoff[3]\n",
    "        elif not res1 and res2:\n",
    "            points[1] += payoff[3]\n",
    "            points[0] += payoff[0]\n",
    "        else:\n",
    "            points[0] += payoff[2]\n",
    "            points[1] += payoff[2]\n",
    " \n",
    "    return points"
   ]
  },
  {
   "cell_type": "markdown",
   "metadata": {},
   "source": [
    "Then, we define the following basic strategies:\n",
    "* _nice player_, a player who always cooperates;\n",
    "* _evil player_, a player who always betrays.\n",
    "\n",
    "And the intermediate versions:\n",
    "* _average player_, a player who cooperates half the time;\n",
    "* _mostly nice player_, a player with a cooperation probability of 0.75;\n",
    "* _mostly bad player_, a player with a cooperation probability of 0.25.\n",
    "\n",
    "Also, we’ll implement a basic example of a different kind of strategy, commonly referred to as “tit-for-tat”. A tit-for-tat player starts by cooperating on the first iteration and then copies their opponent’s previous move from that point forward."
   ]
  },
  {
   "cell_type": "code",
   "execution_count": 4,
   "metadata": {},
   "outputs": [],
   "source": [
    "from basic_strategies import *\n",
    "from additional_strategies import *\n",
    "\n",
    "def init_classed(N):\n",
    "    pl=[]\n",
    "    for i in range(N//17):\n",
    "        pl.append(Player(0,0))\n",
    "        pl.append(Player(0.25,0))\n",
    "        pl.append(Player(0.5,0))\n",
    "        pl.append(Player(0.75,0))\n",
    "        pl.append(Player(1,0))\n",
    "        \n",
    "        pl.append(Player(0.5,1))\n",
    "        pl.append(Player(0.5,-1))\n",
    "        \n",
    "        pl.append(SusTFT())\n",
    "        pl.append(Spiteful())\n",
    "        pl.append(Periodic(True, False))\n",
    "        pl.append(Periodic(True, True, False))\n",
    "        pl.append(Periodic(True, False, False))\n",
    "        pl.append(TF2T())\n",
    "        pl.append(Majority(True))\n",
    "        pl.append(Majority(False))\n",
    "        pl.append(HTFT())\n",
    "        \n",
    "        pl.append(Responsive(0.5,0.5))\n",
    "        \n",
    "        return pl"
   ]
  },
  {
   "cell_type": "markdown",
   "metadata": {},
   "source": [
    "Let’s examine some 1-on-1 matchups of these strategies.\n",
    "\n",
    "The result of a nice versus evil match is easily predicted: Nice will always receive the sucker’s payoff, while Evil will receive a temptation reward in every iteration, resulting in a score of T times the number of iterations to zero in favour of the betrayer.\n",
    "\n",
    "If the number of iterations is large enough, matchups between mostly nice/evil players are also predictable. For example, in the Evil versus Average matchup, the score ratio will converge to 4 in favour of Evil.\n",
    "This is because half the time both players will receive $P = 1$ points (reciprocal betrayal), while in the other instances Evil will receive $T=3$ points and Average will receive $S = 0$. So, if $E$ is Evil’s score and $A$ is Average’s,\n",
    "$$\n",
    "    \\frac{E}{A} \\approx \\frac{P / 2 + T / 2}{P / 2 + S / 2} = 4.\n",
    "$$\n",
    "Indeed:"
   ]
  },
  {
   "cell_type": "code",
   "execution_count": 5,
   "metadata": {},
   "outputs": [
    {
     "ename": "NameError",
     "evalue": "name 'evil_pl' is not defined",
     "output_type": "error",
     "traceback": [
      "\u001b[1;31m---------------------------------------------------------------------------\u001b[0m",
      "\u001b[1;31mNameError\u001b[0m                                 Traceback (most recent call last)",
      "\u001b[1;32m<ipython-input-5-68e42b9c355a>\u001b[0m in \u001b[0;36m<module>\u001b[1;34m\u001b[0m\n\u001b[0;32m      1\u001b[0m \u001b[0miters\u001b[0m \u001b[1;33m=\u001b[0m \u001b[1;36m1000\u001b[0m\u001b[1;33m\u001b[0m\u001b[1;33m\u001b[0m\u001b[0m\n\u001b[1;32m----> 2\u001b[1;33m \u001b[0mevil_v_avg\u001b[0m \u001b[1;33m=\u001b[0m \u001b[0mgame\u001b[0m\u001b[1;33m(\u001b[0m\u001b[0mevil_pl\u001b[0m\u001b[1;33m,\u001b[0m \u001b[0mavg_pl\u001b[0m\u001b[1;33m,\u001b[0m \u001b[0miters\u001b[0m\u001b[1;33m)\u001b[0m\u001b[1;33m\u001b[0m\u001b[1;33m\u001b[0m\u001b[0m\n\u001b[0m\u001b[0;32m      3\u001b[0m \u001b[0mprint\u001b[0m\u001b[1;33m(\u001b[0m\u001b[1;34mf\"Evil v Average:\\n {evil_v_avg}\"\u001b[0m\u001b[1;33m)\u001b[0m\u001b[1;33m\u001b[0m\u001b[1;33m\u001b[0m\u001b[0m\n\u001b[0;32m      4\u001b[0m print(f\"Score ratio: {evil_v_avg[0]} / {evil_v_avg[1]} \\\n\u001b[0;32m      5\u001b[0m = {evil_v_avg[0] / evil_v_avg[1]}\")\n",
      "\u001b[1;31mNameError\u001b[0m: name 'evil_pl' is not defined"
     ]
    }
   ],
   "source": [
    "iters = 1000\n",
    "evil_v_avg = game(evil_pl, avg_pl, iters)\n",
    "print(f\"Evil v Average:\\n {evil_v_avg}\")\n",
    "print(f\"Score ratio: {evil_v_avg[0]} / {evil_v_avg[1]} \\\n",
    "= {evil_v_avg[0] / evil_v_avg[1]}\")"
   ]
  },
  {
   "cell_type": "markdown",
   "metadata": {},
   "source": [
    "Betrayal usually prevails, as seen in the classic dilemma. The situation becomes more intriguing when a tit-for-tat player is introduced. Let's observe how they fare with the reigning champion."
   ]
  },
  {
   "cell_type": "code",
   "execution_count": null,
   "metadata": {},
   "outputs": [],
   "source": [
    "tt_v_evil = game(tt_pl, evil_pl, iters)\n",
    "print(f\"Tit-for-tat v Evil:\\n {tt_v_evil}\")"
   ]
  },
  {
   "cell_type": "markdown",
   "metadata": {},
   "source": [
    "Evil wins by three points. The first move is crucial: Tit-for-tat cooperates initially and hence loses three points to Evil. From that point on, they engage in reciprocal betrayal in every turn, resulting in each player earning one point. With our 1000 iterations, the final score becomes 999 to 1002.\n",
    "\n",
    "Then, what happens to the other players? To get the full picture, we’ll play a small tournament among these six players and look at the averaged scores at the end."
   ]
  },
  {
   "cell_type": "code",
   "execution_count": 9,
   "metadata": {},
   "outputs": [],
   "source": [
    "def tournament(players, iters):\n",
    "    N = len(players)\n",
    "    results = np.zeros((N, N))\n",
    "    for i in range(N):\n",
    "            # start from i to allow players to compete against themselves\n",
    "        for j in range(i, N):\n",
    "            score = game(players[i], players[j], iters)\n",
    "                # results[i, j] is the sum of all points made\n",
    "                # by player i when playing j\n",
    "            results[i, j] += score[0]\n",
    "            if i == j:\n",
    "                continue # avoid double counting\n",
    "            results[j, i] += score[1]\n",
    "\n",
    "    # return average points per iteration\n",
    "    return results / (iters)\n",
    "\n",
    "players = init_classed(17)\n",
    "player_names = [pl.__name__() for pl in players]\n",
    "\n",
    "results = tournament(players, 1000)\n",
    "results = pd.DataFrame(results,\n",
    "                          index=player_names,\n",
    "                          columns=player_names)\n",
    "\n"
   ]
  },
  {
   "cell_type": "code",
   "execution_count": 10,
   "metadata": {},
   "outputs": [
    {
     "data": {
      "text/plain": [
       "<AxesSubplot: >"
      ]
     },
     "execution_count": 10,
     "metadata": {},
     "output_type": "execute_result"
    },
    {
     "data": {
      "image/png": "[encoded data removed]",
      "text/plain": [
       "<Figure size 864x648 with 2 Axes>"
      ]
     },
     "metadata": {
      "needs_background": "light"
     },
     "output_type": "display_data"
    }
   ],
   "source": [
    "import seaborn as sn\n",
    "plt.figure(figsize=(12, 9))\n",
    "sn.heatmap(results, annot=True, cmap=\"Greens\")"
   ]
  },
  {
   "cell_type": "markdown",
   "metadata": {},
   "source": [
    "The entries in the tournament matrix indicate the average score achieved by the player associated with the corresponding row, across all rounds, against the player represented by the column.\n",
    "\n",
    "Thus, by taking the average along the rows, we can determine which\n",
    "player performs the best, on average."
   ]
  },
  {
   "cell_type": "code",
   "execution_count": null,
   "metadata": {},
   "outputs": [],
   "source": [
    "standings = tournament.mean(axis=1).sort_values(ascending=False)\n",
    "standings"
   ]
  },
  {
   "cell_type": "markdown",
   "metadata": {},
   "source": [
    "The evil players win, once again!\n",
    "\n",
    "However, if we look the average score obtained by each player *against themselves*, we get this:"
   ]
  },
  {
   "cell_type": "code",
   "execution_count": null,
   "metadata": {},
   "outputs": [],
   "source": [
    "standings_self = pd.Series(np.diag(tournament),\n",
    "                           index=player_names).sort_values(ascending=False)\n",
    "standings_self"
   ]
  },
  {
   "cell_type": "markdown",
   "metadata": {},
   "source": [
    "So, Evil players do well against other types of players, but their\n",
    "individualistic strategy leads to suboptimal outcomes for the population\n",
    "as a whole. A completely Evil population will result in the least favourable\n",
    "distribution of rewards.\n",
    "\n",
    "On the other end of the spectrum are Nice and Tit-for-tat players.\n",
    "Out of these two, as we’ve seen above, Tit-for-tat has a better performance\n",
    "across the board. If we were to look at it from a “Survival of the Fittest”\n",
    "perspective, we’d expect Tit-for-tat – or some variant of it – to\n",
    "become the dominant strategy. This is what we’ll investigate in the next\n",
    "section."
   ]
  },
  {
   "cell_type": "markdown",
   "metadata": {},
   "source": [
    "## Battle Royal\n",
    "\n",
    "In this section we’ll implement an “evolutionary” round-robin tournament:\n",
    "we’ll keep a fixed total population of players throughout the tournament,\n",
    "but the number of players in each class will change proportionally to the \n",
    "scores in the previous round. The following function `init_classed` sets\n",
    "up the initial population of players. We’ll start with a uniform \n",
    "distribution of the six strategies we discussed in the previous section."
   ]
  },
  {
   "cell_type": "code",
   "execution_count": null,
   "metadata": {},
   "outputs": [],
   "source": [
    "def init_classed(num_players):\n",
    "    return np.array([Player(1), Player(0.75), Player(0.5), Player(0.25),\n",
    "                     Player(0), TftPlayer(-1)] * (num_players // 6)\n",
    "                    # fill remaining spots with Average players\n",
    "                    + [Player(0.5)] * (num_players % 6))"
   ]
  },
  {
   "cell_type": "markdown",
   "metadata": {},
   "source": [
    "The next function, `repeated`, performs a run of a given number of cycles \n",
    "and stops it if the scores remain unchanged for 20 consecutive cycles, with\n",
    "a tolerance of 0.001%. The function `select` is used to sort the results\n",
    "and adjust the distribution of the population according to the following \n",
    "rule:\n",
    "$$\n",
    "    C_i^{(n + 1)} = C_i^{(n)} \\biggl(1 + \\frac{S_i^{(n)} - \\mu_{\\vphantom{i}}^{(n)}}{\\mu^{(n)}}\\biggr),\n",
    "$$\n",
    "where $C_i^{(n)}$ is the number of players in the class (strategy) $i$ at the $n$-th\n",
    "cycle, $S_i^{(n)}$ the score of the $i$-th class, and\n",
    "$$\n",
    "    \\mu^{(n)} = \\frac{1}{N_\\mathrm{p}} \\sum_{i = 1}^{N_\\mathrm{c}}\n",
    "    C_i^{(n)} S_i^{(n)}\n",
    "$$\n",
    "with $N_\\mathrm{c}$ the number of classes and $N_\\mathrm{p}$ the total number of players. Here is a simple proof that the total population doesn’t change using this update rule:\n",
    "$$\n",
    "    \\sum_{i=1}^{N_\\mathrm{c}} C_{i}^{(n + 1)} = \\sum_{i = 1}^{N_\\mathrm{c}} {}\\Biggl[C_i^{(n)} + \n",
    "    \\frac{C_i^{(n)}}{\\mu^{(n)}} \\Biggl(S_i^{(n)} - \\frac{1}{N_\\mathrm{p}} \\sum_{j = 1}^{N_\\mathrm{c}} C_j^{(n)} S_j^{(n)} \\Biggr)\\Biggr],\n",
    "$$\n",
    "and since $C_i^{(n)} = N_\\mathrm{p}$,\n",
    "$$\n",
    "    \\sum_{i = 1}^{N_\\mathrm{c}} C_{i}^{(n + 1)} \n",
    "    = N_\\mathrm{p} + \n",
    "        \\frac{1}{\\mu^{(n)}} \\sum_{i=1}^{N_\\mathrm{c}} C_i^{(n)} S_i^{(n)} \n",
    "        - \\frac{N_\\mathrm{p}}{\\mu^{(n)}} \\sum_{j = 1}^{N_\\mathrm{c}} \\frac{C_{j}^{(n)} S_j^{(n)}}{N_\\mathrm{p}} = N_\\mathrm{p}.\n",
    "$$\n",
    "\n",
    "So, the strategies with higher scores will reproduce more, while the population with below-average performance will decrease as the tournament progresses"
   ]
  },
  {
   "cell_type": "code",
   "execution_count": null,
   "metadata": {},
   "outputs": [],
   "source": [
    "def repeated(num_players, iters, cycles):\n",
    "    players = init_classed(num_players)\n",
    "\n",
    "    # call round_robin with 10 games per matchup\n",
    "    num_games = 10\n",
    "    scores = round_robin(players, iters, num_games)\n",
    "    results = [(players, scores)]\n",
    "\n",
    "    stop_counter = 0\n",
    "    for i in range(cycles - 1):\n",
    "        players = select(players, scores)\n",
    "        scores = round_robin(players, iters, num_games)\n",
    "        results.append((players, scores))\n",
    "\n",
    "        if (np.allclose(scores, results[i][1],\n",
    "                        atol=0.0001 * max(scores))):\n",
    "            stop_counter += 1\n",
    "        else:\n",
    "            stop_counter = 0\n",
    "        \n",
    "        if stop_counter == 20:\n",
    "            break\n",
    "\n",
    "    players = select(players, scores)\n",
    "\n",
    "    return results\n",
    "\n",
    "def select(players, scores, notquite=True):\n",
    "    num_players = len(players)\n",
    "\n",
    "    # define types as set so we get unique values\n",
    "    types = {(p.__class__, p.init_values()) for p in players}\n",
    "    #for p in players:\n",
    "    #    player_type = (p.__class__, p.init_values())\n",
    "    #    for t in types:\n",
    "    #        if t == player_type:\n",
    "    #            break\n",
    "    #    else:\n",
    "    #        types.append(player_type)\n",
    "\n",
    "    # add scores by types\n",
    "    sc_by_type = np.empty(len(types))\n",
    "    num_by_type = np.empty(len(types))\n",
    "    for idx_t, t in enumerate(types):\n",
    "        t_score = [scores[i] for i in range(num_players)\n",
    "                             if t == (players[i].__class__, \n",
    "                                      players[i].init_values())]\n",
    "        \n",
    "        sc_by_type[idx_t] = np.mean(t_score)\n",
    "        num_by_type[idx_t] = len(t_score)\n",
    "\n",
    "    if notquite:\n",
    "        return types, sc_by_type, num_by_type\n",
    "\n",
    "    glob = sorted([(types[i], sc_by_type[i]) for i in range(len(types))],\n",
    "                  key=lambda x: x[1], reverse=True)\n",
    "    \n",
    "    mu = np.sum(num_by_type * sc_by_type) / num_players\n",
    "    new_nums = (num_by_type * (1 + (sc_by_type - mu) / mu)).astype(int)\n",
    "\n",
    "    new_players = [t[0](*t[1]) for i in new_nums[idx_t]\n",
    "                               for idx_t, t in enumerate(types)]\n",
    "    while len(new_players) < num_players:\n",
    "        new_players.append(types[0][0](*types[0][1]))\n",
    "\n",
    "    return new_players"
   ]
  },
  {
   "cell_type": "markdown",
   "metadata": {},
   "source": [
    "Then, the function `stats` computes the mean and standard deviation of the scores for each strategy over the last 20 cycles, where a stable solution should have been reached. Additionally, it generates two plots to display the trend of both the count and score of each strategy."
   ]
  },
  {
   "cell_type": "code",
   "execution_count": null,
   "metadata": {},
   "outputs": [],
   "source": [
    "def stats(results):\n",
    "    scores = []\n",
    "    counts = []\n",
    "    strat, sc, nums = select(*results[0], True)\n",
    "    names = [str(s) for s in strat]\n",
    "\n",
    "    scores.append(sc)\n",
    "    counts.append(nums)\n",
    "\n",
    "    for res in results[1:]:\n",
    "        strat, sc, nums = select(*res, True)\n",
    "        new_names = [str(s) for s in strat]\n",
    "\n",
    "        sc_ord = []\n",
    "        num_ord = []\n",
    "        for i in range(len(names)):\n",
    "            for j in range(len(new_names)):\n",
    "                if new_names[j] == names[i]:\n",
    "                    sc_ord.append(sc[j])\n",
    "                    num_ord.append(nums[j])\n",
    "            else:\n",
    "                sc_ord.append(0)\n",
    "                num_ord.append(0)\n",
    "\n",
    "        scores.append(sc_ord)\n",
    "        counts.append(num_ord)\n",
    "\n",
    "    scores = np.array(scores).T\n",
    "    counts = np.array(counts).T\n",
    "\n",
    "    means = []\n",
    "    dev = []\n",
    "\n",
    "    fig, ax = plt.subplots(nrows=1, ncols=2, figsize=(12, 8))\n",
    "    for n in range(len(names)):\n",
    "        means.append(np.mean(scores[j][-20:]))\n",
    "        dev.append(np.std(scores[j][-20:]))\n",
    "        ax[0].plot(np.arange(0, len(results)),\n",
    "                   scores[j], label=names[j])\n",
    "        ax[1].plot(np.arange(0, len(results)),\n",
    "                   counts[j], label=names[j])\n",
    "        ax[0].legend()\n",
    "\n",
    "    return strat, means, dev"
   ]
  },
  {
   "cell_type": "code",
   "execution_count": null,
   "metadata": {},
   "outputs": [],
   "source": [
    "N = 120\n",
    "it = 100\n",
    "cyc = 100\n",
    "\n",
    "hist = repeated(N, it, cyc)"
   ]
  },
  {
   "cell_type": "code",
   "execution_count": null,
   "metadata": {},
   "outputs": [],
   "source": []
  }
 ],
 "metadata": {
  "kernelspec": {
   "display_name": "Python 3",
   "language": "python",
   "name": "python3"
  },
  "language_info": {
   "codemirror_mode": {
    "name": "ipython",
    "version": 3
   },
   "file_extension": ".py",
   "mimetype": "text/x-python",
   "name": "python",
   "nbconvert_exporter": "python",
   "pygments_lexer": "ipython3",
   "version": "3.8.3"
  },
  "vscode": {
   "interpreter": {
    "hash": "fdbb663ad9ba1b792610492e9c14cc4502c8785e473cf31bd41558f2f35aac4e"
   }
  }
 },
 "nbformat": 4,
 "nbformat_minor": 2
}
