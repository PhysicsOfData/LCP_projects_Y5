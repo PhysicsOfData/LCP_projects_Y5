{
 "cells": [
  {
   "cell_type": "code",
   "execution_count": 5,
   "metadata": {},
   "outputs": [
    {
     "ename": "AttributeError",
     "evalue": "module 'matplotlib' has no attribute 'colormaps'",
     "output_type": "error",
     "traceback": [
      "\u001b[1;31m---------------------------------------------------------------------------\u001b[0m",
      "\u001b[1;31mAttributeError\u001b[0m                            Traceback (most recent call last)",
      "\u001b[1;32m<ipython-input-5-e882c594cb82>\u001b[0m in \u001b[0;36m<module>\u001b[1;34m\u001b[0m\n\u001b[0;32m     78\u001b[0m \u001b[1;33m\u001b[0m\u001b[0m\n\u001b[0;32m     79\u001b[0m \u001b[1;32mif\u001b[0m \u001b[0m__name__\u001b[0m \u001b[1;33m==\u001b[0m \u001b[1;34m\"__main__\"\u001b[0m\u001b[1;33m:\u001b[0m\u001b[1;33m\u001b[0m\u001b[1;33m\u001b[0m\u001b[0m\n\u001b[1;32m---> 80\u001b[1;33m     \u001b[0mmain\u001b[0m\u001b[1;33m(\u001b[0m\u001b[1;33m)\u001b[0m\u001b[1;33m\u001b[0m\u001b[1;33m\u001b[0m\u001b[0m\n\u001b[0m",
      "\u001b[1;32m<ipython-input-5-e882c594cb82>\u001b[0m in \u001b[0;36mmain\u001b[1;34m(N, it, cyc)\u001b[0m\n\u001b[0;32m     57\u001b[0m \u001b[1;33m\u001b[0m\u001b[0m\n\u001b[0;32m     58\u001b[0m     \u001b[0mcol\u001b[0m \u001b[1;33m=\u001b[0m \u001b[1;36m255\u001b[0m \u001b[1;33m*\u001b[0m \u001b[1;33m(\u001b[0m\u001b[0mnp\u001b[0m\u001b[1;33m.\u001b[0m\u001b[0marray\u001b[0m\u001b[1;33m(\u001b[0m\u001b[0mhist\u001b[0m\u001b[1;33m[\u001b[0m\u001b[1;36m0\u001b[0m\u001b[1;33m]\u001b[0m\u001b[1;33m[\u001b[0m\u001b[1;36m2\u001b[0m\u001b[1;33m]\u001b[0m\u001b[1;33m)\u001b[0m \u001b[1;33m-\u001b[0m \u001b[0mmin\u001b[0m\u001b[1;33m(\u001b[0m\u001b[0mhist\u001b[0m\u001b[1;33m[\u001b[0m\u001b[1;36m0\u001b[0m\u001b[1;33m]\u001b[0m\u001b[1;33m[\u001b[0m\u001b[1;36m2\u001b[0m\u001b[1;33m]\u001b[0m\u001b[1;33m)\u001b[0m\u001b[1;33m)\u001b[0m \u001b[1;33m/\u001b[0m \u001b[1;33m(\u001b[0m\u001b[0mmax\u001b[0m\u001b[1;33m(\u001b[0m\u001b[0mhist\u001b[0m\u001b[1;33m[\u001b[0m\u001b[1;36m0\u001b[0m\u001b[1;33m]\u001b[0m\u001b[1;33m[\u001b[0m\u001b[1;36m2\u001b[0m\u001b[1;33m]\u001b[0m\u001b[1;33m)\u001b[0m \u001b[1;33m-\u001b[0m \u001b[0mmin\u001b[0m\u001b[1;33m(\u001b[0m\u001b[0mhist\u001b[0m\u001b[1;33m[\u001b[0m\u001b[1;36m0\u001b[0m\u001b[1;33m]\u001b[0m\u001b[1;33m[\u001b[0m\u001b[1;36m2\u001b[0m\u001b[1;33m]\u001b[0m\u001b[1;33m)\u001b[0m\u001b[1;33m)\u001b[0m\u001b[1;33m\u001b[0m\u001b[1;33m\u001b[0m\u001b[0m\n\u001b[1;32m---> 59\u001b[1;33m     \u001b[0mrgb\u001b[0m \u001b[1;33m=\u001b[0m \u001b[0mmpl\u001b[0m\u001b[1;33m.\u001b[0m\u001b[0mcolormaps\u001b[0m\u001b[1;33m[\u001b[0m\u001b[1;34m\"coolwarm\"\u001b[0m\u001b[1;33m]\u001b[0m\u001b[1;33m(\u001b[0m\u001b[0mcol\u001b[0m\u001b[1;33m)\u001b[0m\u001b[1;33m[\u001b[0m\u001b[0mnp\u001b[0m\u001b[1;33m.\u001b[0m\u001b[0mnewaxis\u001b[0m\u001b[1;33m,\u001b[0m \u001b[1;33m:\u001b[0m\u001b[1;33m,\u001b[0m \u001b[1;33m:\u001b[0m\u001b[1;36m3\u001b[0m\u001b[1;33m]\u001b[0m\u001b[1;33m[\u001b[0m\u001b[1;36m0\u001b[0m\u001b[1;33m]\u001b[0m\u001b[1;33m\u001b[0m\u001b[1;33m\u001b[0m\u001b[0m\n\u001b[0m\u001b[0;32m     60\u001b[0m \u001b[1;33m\u001b[0m\u001b[0m\n\u001b[0;32m     61\u001b[0m     \u001b[0mlines\u001b[0m\u001b[1;33m=\u001b[0m\u001b[1;33m[\u001b[0m\u001b[1;33m]\u001b[0m\u001b[1;33m\u001b[0m\u001b[1;33m\u001b[0m\u001b[0m\n",
      "\u001b[1;31mAttributeError\u001b[0m: module 'matplotlib' has no attribute 'colormaps'"
     ]
    },
    {
     "data": {
      "image/png": "[encoded data removed]",
      "text/plain": [
       "<Figure size 432x288 with 1 Axes>"
      ]
     },
     "metadata": {
      "needs_background": "light"
     },
     "output_type": "display_data"
    }
   ],
   "source": [
    "%run basic_strategies.ipynb\n",
    "%run evolution.ipynb\n",
    "%run multi_player.ipynb\n",
    "\n",
    "import matplotlib.pyplot as plt \n",
    "import matplotlib.animation as animation\n",
    "import matplotlib as mpl\n",
    "import numpy as np\n",
    "\n",
    "def init(N):\n",
    "    pl = []\n",
    "    #for i in range(N//6):\n",
    "        #pl.append(Player(0,0))\n",
    "        #pl.append(Player(0.25,0))\n",
    "        #pl.append(Player(0.5,0))\n",
    "        #pl.append(Player(0.75,0))\n",
    "        #pl.append(Player(1,0))\n",
    "        \n",
    "        #pl.append(Player(0.5,1))\n",
    "        #pl.append(Player(0.5,-1))\n",
    "    \n",
    "    #while len(pl) < N:\n",
    "        #pl.append(Player(0.5,1))\n",
    "    \n",
    "    Nsq=int(N**0.5)\n",
    "    for i in range(Nsq):\n",
    "        for j in range(Nsq):\n",
    "            pl.append(Player(i/Nsq, j*2/Nsq - 1))\n",
    "    while len(pl) < N:\n",
    "        pl.append(Player(0.5,0))\n",
    "    return pl\n",
    "\n",
    "\n",
    "def repeated(N, it, cyc):\n",
    "    pl = init(N)\n",
    "    hist=[]\n",
    "    scores = round_robin(pl, it)\n",
    "    for i in range(cyc-1):\n",
    "        #pl = select(pl, scores)\n",
    "        pl, k, t=evolve(pl, scores)\n",
    "        scores = round_robin(pl, it)\n",
    "        \n",
    "        hist.append((k,t, scores))\n",
    "    \n",
    "    pl,_,_=evolve(pl, scores)#, True)\n",
    "    scores = round_robin(pl, it)\n",
    "    \n",
    "    return pl, hist\n",
    "\n",
    "def main(N=100, it=100, cyc=100):\n",
    "    pl, hist = repeated(N, it, cyc)\n",
    "    fig, ax = plt.subplots()\n",
    "    ax.set_xlim(0,1)\n",
    "    ax.set_ylim(-1, 1)\n",
    "    ax.set_xlabel(\"k\")\n",
    "    ax.set_ylabel(\"t\")\n",
    "    \n",
    "    col = 255 * (np.array(hist[0][2]) - min(hist[0][2])) / (max(hist[0][2]) - min(hist[0][2]))\n",
    "    rgb = mpl.colormaps[\"coolwarm\"](col)[np.newaxis, :, :3][0]\n",
    "    \n",
    "    lines=[]\n",
    "    \n",
    "    for j in range(len(hist[0][0])):\n",
    "        line, = ax.plot(hist[0][0][j], hist[0][1][j], c=rgb[j], marker=\".\", linewidth=0)\n",
    "        lines.append(line)\n",
    "    \n",
    "    #print(lines)\n",
    "    def animate(i):\n",
    "        col = 255 * (np.array(hist[i][2]) - min(hist[i][2])) / (max(hist[i][2]) - min(hist[i][2]))\n",
    "        rgb = mpl.colormaps[\"coolwarm\"](col)[np.newaxis, :, :3][0]\n",
    "        #print(hist[i][2], col, rgb)\n",
    "        for j in range(len(lines)):\n",
    "            lines[j].set_data([hist[i][0][j], hist[i][1][j]])\n",
    "            lines[j].set_color(rgb[j])\n",
    "        return lines\n",
    "    ani = animation.FuncAnimation(fig, animate, interval=500, blit=True, frames=len(hist))\n",
    "    plt.show()\n",
    "\n",
    "if __name__ == \"__main__\":\n",
    "    main()"
   ]
  },
  {
   "cell_type": "code",
   "execution_count": null,
   "metadata": {},
   "outputs": [],
   "source": []
  }
 ],
 "metadata": {
  "kernelspec": {
   "display_name": "Python 3",
   "language": "python",
   "name": "python3"
  },
  "language_info": {
   "codemirror_mode": {
    "name": "ipython",
    "version": 3
   },
   "file_extension": ".py",
   "mimetype": "text/x-python",
   "name": "python",
   "nbconvert_exporter": "python",
   "pygments_lexer": "ipython3",
   "version": "3.8.3"
  }
 },
 "nbformat": 4,
 "nbformat_minor": 4
}
